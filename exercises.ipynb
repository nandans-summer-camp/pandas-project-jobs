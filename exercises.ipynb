{
 "cells": [
  {
   "cell_type": "markdown",
   "metadata": {
    "collapsed": false
   },
   "source": [
    "# Data Munging: Strings\n",
    "\n",
    "Data munging, the process of wrestling with data to make it into something clean and usable, is an important part of any job analyzing data.\n",
    "\n",
    "Today we're going to focus on some data that has information we want, but the information is not properly *structured*. In particular, it comes as a single column with a string value, and we want to turn it into a series of boolean columns.\n",
    "\n",
    "To do that, we're going to use the powerful built-in methods Python provides us to work with strings. You can read all about the available methods here: \n",
    "\n",
    "https://docs.python.org/3/library/string.html\n",
    "\n",
    "In particular, we're going to use `.split()`, which is a method that turns a string into a list of strings, and `.strip()`, which removes the \"whitespace\" from a string."
   ]
  },
  {
   "cell_type": "code",
   "execution_count": null,
   "metadata": {
    "collapsed": false
   },
   "outputs": [],
   "source": [
    "# Play:\n",
    "#\n",
    "# Take a look at the official Python documentation for the\n",
    "# \"split\" and \"strip\" methods. Play around with them now\n",
    "# to make sure you understand how they work:\n",
    "\n"
   ]
  },
  {
   "cell_type": "code",
   "execution_count": null,
   "metadata": {
    "collapsed": false
   },
   "outputs": [],
   "source": [
    "#\n",
    "# 1) \n",
    "# Read the data in a csv called \"jobs.csv\" into a DataFrame.\n",
    "# This data is from a site that posts job ads online. \n",
    "# Each row represents an ad for a job on the site.\n"
   ]
  },
  {
   "cell_type": "code",
   "execution_count": null,
   "metadata": {
    "collapsed": false
   },
   "outputs": [],
   "source": [
    "# \n",
    "# Take a look at your data and note that you have\n",
    "# a column called `pay`. That column is a string,\n",
    "# as far as Python is concerned. However, to us\n",
    "# humans, we notice that the information is more\n",
    "# structured than that. It seems like a \"collection\n",
    "# of keywords,\" where each job can have zero or more\n",
    "# keywords such as \"Part-Time\" or \"Contract\" which\n",
    "# describe the type of contract.\n",
    "#\n",
    "# There are 6 different contract types. \n",
    "# \n",
    "# Your goal:\n",
    "# Transform the DataFrame, adding 6 boolean columns, \n",
    "# one for each contract type, indicating whether or\n",
    "# not that job has that contract type.\n",
    "#\n",
    "# NOTE: This is a relatively large task. \n",
    "# Break it down into a series of steps, just like\n",
    "# we did in the last exercises. Work on each\n",
    "# step separately.\n",
    "#\n",
    "# Many of the steps will require to work with the\n",
    "# string methods mentioned above. "
   ]
  },
  {
   "cell_type": "code",
   "execution_count": null,
   "metadata": {
    "collapsed": false
   },
   "outputs": [],
   "source": [
    "#\n",
    "# 2)\n",
    "# Break down your tasks, write a \"pipeline\" function\n",
    "# called \"add_contract_types\".\n",
    "#\n",
    "# HINT: last time, each \"step\" returned a DataFrame\n",
    "# object. This might not be the case this time, the\n",
    "# steps can return any data type that is helpful\n",
    "# to move the to next step!\n",
    "\n"
   ]
  },
  {
   "cell_type": "code",
   "execution_count": null,
   "metadata": {
    "collapsed": false
   },
   "outputs": [],
   "source": [
    "#\n",
    "# 3) \n",
    "# Now write all the \"steps\" (functions) needed\n",
    "# by your pipeline function (add_contract_types)\n"
   ]
  },
  {
   "cell_type": "code",
   "execution_count": null,
   "metadata": {
    "collapsed": false
   },
   "outputs": [],
   "source": [
    "# \n",
    "# 4)\n",
    "# Now add the needed columns by using your function\n",
    "# add_contract_types. You will want the returned\n",
    "# DataFrame for some of the further exercises.\n"
   ]
  },
  {
   "cell_type": "code",
   "execution_count": null,
   "metadata": {
    "collapsed": false
   },
   "outputs": [],
   "source": [
    "#\n",
    "# 5) \n",
    "# Assume that all jobs that don't specify a contract\n",
    "# type in \"pay\" are Full-time. Create a new column, \n",
    "# called \"Full-time\", which is a boolean that \n",
    "# should be True if the job is Full-time, false otherwise.\n"
   ]
  },
  {
   "cell_type": "code",
   "execution_count": null,
   "metadata": {
    "collapsed": false
   },
   "outputs": [],
   "source": [
    "#\n",
    "# 6)\n",
    "# Get the percentage of jobs for each contract type\n",
    "# i.e. number of jobs of X type / number of jobs\n"
   ]
  },
  {
   "cell_type": "code",
   "execution_count": null,
   "metadata": {
    "collapsed": false
   },
   "outputs": [],
   "source": [
    "# \n",
    "# 7)\n",
    "# Which industries ('category') have the highest\n",
    "# percentage of part-time jobs posted?\n",
    "# The lowest?\n"
   ]
  },
  {
   "cell_type": "code",
   "execution_count": null,
   "metadata": {
    "collapsed": false
   },
   "outputs": [],
   "source": [
    "#\n",
    "# 8)\n",
    "# Which industries ('category') have the highest\n",
    "# percentage of Internship jobs posted?\n",
    "# The lowest?\n",
    "\n",
    "# Note: this question is very similar to the last.\n",
    "# make a function that can answer both questions\n"
   ]
  },
  {
   "cell_type": "code",
   "execution_count": null,
   "metadata": {
    "collapsed": false
   },
   "outputs": [],
   "source": [
    "#\n",
    "# 9)\n",
    "# Use your function to ask the same question about\n",
    "# Comission jobs\n"
   ]
  },
  {
   "cell_type": "code",
   "execution_count": null,
   "metadata": {
    "collapsed": false
   },
   "outputs": [],
   "source": [
    "#\n",
    "# 10)\n",
    "# Let's call jobs that are either Temporary, \n",
    "# Part-time or Internships \"precarious\". \n",
    "#\n",
    "# Order the industries (category) by the \n",
    "# percentage of precarious jobs\n",
    "#\n",
    "# HINT: can you modify some previous function\n",
    "# to make this question easy to answer?\n",
    "#\n",
    "# HINT: Make sure your variables reflect their\n",
    "# content. Collections should be plural, single\n",
    "# elements should be singular.\n"
   ]
  },
  {
   "cell_type": "code",
   "execution_count": null,
   "metadata": {
    "collapsed": false
   },
   "outputs": [],
   "source": [
    "#\n",
    "# 11)\n",
    "# Get the 5 companies who post the most jobs\n",
    "# in each  category, along with the number of \n",
    "# jobs listed by each company.\n"
   ]
  },
  {
   "cell_type": "code",
   "execution_count": null,
   "metadata": {
    "collapsed": false
   },
   "outputs": [],
   "source": [
    "# 12)\n",
    "# Is any company in the top 5 across more than one categories??\n",
    "# Return the companies who are, along with the categories\n",
    "# in which they appear in the top 5.\n",
    "#\n",
    "# FORMAT: Dataframe with 3 columns: company, category, number of jobs\n",
    "#\n",
    "# HINT: take a look at the `.filter` method on GroupBy:\n",
    "# https://pandas.pydata.org/pandas-docs/stable/reference/api/pandas.core.groupby.DataFrameGroupBy.filter.html\n"
   ]
  }
 ],
 "metadata": {
  "kernelspec": {
   "argv": [
    "python",
    "-m",
    "ipykernel_launcher",
    "-f",
    "{connection_file}"
   ],
   "display_name": "Python 3",
   "env": null,
   "interrupt_mode": "signal",
   "language": "python",
   "metadata": null,
   "name": "python3"
  },
  "name": "exercises.ipynb"
 },
 "nbformat": 4,
 "nbformat_minor": 4
}
